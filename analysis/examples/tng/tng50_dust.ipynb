{
 "cells": [
  {
   "cell_type": "code",
   "execution_count": 1,
   "metadata": {},
   "outputs": [],
   "source": [
    "import matplotlib.pyplot as plt\n",
    "import cmasher as cmr\n",
    "import numpy as np\n",
    "import h5py\n",
    "import pickle\n",
    "\n",
    "from synthesizer.grid import Grid\n",
    "from synthesizer.filters import FilterCollection as Filters\n",
    "from synthesizer.load_data.load_camels import load_CAMELS_IllustrisTNG\n",
    "from synthesizer.kernel_functions import Kernel\n",
    "from synthesizer.particle import Stars, Gas, Galaxy"
   ]
  },
  {
   "cell_type": "code",
   "execution_count": 2,
   "metadata": {},
   "outputs": [],
   "source": [
    "# set style\n",
    "plt.style.use('../../matplotlibrc.txt')"
   ]
  },
  {
   "cell_type": "code",
   "execution_count": 3,
   "metadata": {},
   "outputs": [],
   "source": [
    "h = 0.6774\n",
    "Om0 = 0.3089\n",
    "Ode0 = 0.6911\n",
    "H0 = h * 100 \n",
    "Ob0 = 0.0486\n",
    "\n",
    "from astropy.cosmology import Planck13 as cosmo\n",
    "from astropy.cosmology import LambdaCDM\n",
    "from unyt import Myr\n",
    "\n",
    "cosmo = LambdaCDM(Om0=Om0, Ode0=Ode0, H0=H0, Ob0=Ob0)\n",
    "# cosmo = Planck13 "
   ]
  },
  {
   "cell_type": "code",
   "execution_count": 4,
   "metadata": {},
   "outputs": [
    {
     "name": "stdout",
     "output_type": "stream",
     "text": [
      "Header\n",
      "PartType0\n",
      "PartType0/Coordinates\n",
      "PartType0/GFM_Metallicity\n",
      "PartType0/Masses\n",
      "PartType0/SubfindHsml\n",
      "PartType4\n",
      "PartType4/Coordinates\n",
      "PartType4/GFM_InitialMass\n",
      "PartType4/GFM_Metallicity\n",
      "PartType4/GFM_StellarFormationTime\n"
     ]
    }
   ],
   "source": [
    "\n",
    "snap_z = 2.00202813925285\n",
    "id = '145492'\n",
    "filename = f'cutout_{id}.hdf5'\n",
    "\n",
    "sub = pickle.load(open('sub.pck','rb'))\n",
    "\n",
    "with h5py.File(filename) as f:\n",
    "\n",
    "    f.visit(print)\n"
   ]
  },
  {
   "cell_type": "code",
   "execution_count": 5,
   "metadata": {},
   "outputs": [
    {
     "name": "stderr",
     "output_type": "stream",
     "text": [
      "/Users/sw376/Dropbox/Research/projects/synthesizer-lines/venv/lib/python3.10/site-packages/unyt/array.py:1813: RuntimeWarning: divide by zero encountered in log10\n",
      "  out_arr = func(np.asarray(inp), out=out_func, **kwargs)\n"
     ]
    }
   ],
   "source": [
    "\n",
    "with h5py.File(filename) as f:\n",
    "\n",
    "    formation_scale_factor = f['PartType4']['GFM_StellarFormationTime'][()]\n",
    "    formation_redshift = 1/formation_scale_factor - 1.0\n",
    "    \n",
    "    # only select star particles that make sense\n",
    "    s = formation_redshift>=snap_z\n",
    "    formation_redshift = formation_redshift[s]\n",
    "\n",
    "    ages = (cosmo.age(z=snap_z)-cosmo.age(formation_redshift)).to('Myr').value * Myr\n",
    "\n",
    "\n",
    "    x = f['PartType4']['Coordinates'][s,0] - sub['pos_x']\n",
    "    y = f['PartType4']['Coordinates'][s,1] - sub['pos_y']\n",
    "    z = f['PartType4']['Coordinates'][s,2] - sub['pos_z']\n",
    "\n",
    "    stars = Stars(\n",
    "        ages=ages,\n",
    "        initial_masses=f['PartType4']['GFM_InitialMass'][s] * 1E10 / h,\n",
    "        metallicities=f['PartType4']['GFM_Metallicity'][s],\n",
    "        coordinates=np.array([x,y,z]).T/(1+snap_z)/h/1000,\n",
    "        )\n",
    "\n",
    "    x = f['PartType0']['Coordinates'][:,0] - sub['pos_x']\n",
    "    y = f['PartType0']['Coordinates'][:,1] - sub['pos_y']\n",
    "    z = f['PartType0']['Coordinates'][:,2] - sub['pos_z']\n",
    "\n",
    "    gas = Gas(\n",
    "        masses=f['PartType0']['Masses'][:] * 1E10 / h,\n",
    "        metallicities=f['PartType0']['GFM_Metallicity'][:],\n",
    "        smoothing_lengths=f['PartType0']['SubfindHsml'][:]/(1+snap_z)/h/1000,\n",
    "        coordinates=np.array([x,y,z]).T/(1+snap_z)/h/1000,\n",
    "        )\n",
    "\n",
    "galaxy = Galaxy(stars=stars, gas=gas)\n"
   ]
  },
  {
   "cell_type": "code",
   "execution_count": 6,
   "metadata": {},
   "outputs": [
    {
     "name": "stdout",
     "output_type": "stream",
     "text": [
      "793943\n",
      "[[ 1.62769810e-05  1.72569987e-04 -8.96167232e-05]\n",
      " [ 1.81968352e-05  2.04699812e-04 -5.82762721e-06]\n",
      " [ 2.84002607e-05  2.03775963e-04  5.10035742e-05]\n",
      " ...\n",
      " [ 9.31502832e-02 -4.10109421e-02 -2.55167922e-02]\n",
      " [-1.53137849e-02  1.59378538e-02 -6.08782552e-03]\n",
      " [ 5.10048932e-02  3.06615180e-02 -1.17219301e-02]]\n"
     ]
    }
   ],
   "source": [
    "print(len(galaxy.gas._masses))\n",
    "print(galaxy.gas._coordinates)"
   ]
  },
  {
   "cell_type": "code",
   "execution_count": 7,
   "metadata": {},
   "outputs": [
    {
     "data": {
      "text/plain": [
       "array([8.61491263e-01, 9.00579717e-01, 8.02747374e-01, ...,\n",
       "       5.36033763e-06, 2.55226050e-06, 3.81426290e-04])"
      ]
     },
     "execution_count": 7,
     "metadata": {},
     "output_type": "execute_result"
    }
   ],
   "source": [
    "\n",
    "kappa = 0.3\n",
    "kernel = Kernel()\n",
    "kernel.get_kernel()\n",
    "\n",
    "galaxy.calculate_los_tau_v(kappa=kappa, kernel=kernel.get_kernel(), force_loop=True)"
   ]
  },
  {
   "cell_type": "code",
   "execution_count": 8,
   "metadata": {},
   "outputs": [
    {
     "data": {
      "image/png": "[encoded data removed]",
      "text/plain": [
       "<Figure size 640x480 with 1 Axes>"
      ]
     },
     "metadata": {},
     "output_type": "display_data"
    }
   ],
   "source": [
    "\n",
    "tauv = galaxy.stars.tau_v\n",
    "tauv = tauv[tauv>0.0]\n",
    "\n",
    "plt.hist(np.log10(tauv))\n",
    "plt.show()"
   ]
  },
  {
   "cell_type": "code",
   "execution_count": 9,
   "metadata": {},
   "outputs": [],
   "source": [
    "import pickle\n",
    "pickle.dump(galaxy, open(f'galaxy_{id}.pck','wb'))"
   ]
  }
 ],
 "metadata": {
  "kernelspec": {
   "display_name": "venv",
   "language": "python",
   "name": "python3"
  },
  "language_info": {
   "codemirror_mode": {
    "name": "ipython",
    "version": 3
   },
   "file_extension": ".py",
   "mimetype": "text/x-python",
   "name": "python",
   "nbconvert_exporter": "python",
   "pygments_lexer": "ipython3",
   "version": "3.10.11"
  },
  "orig_nbformat": 4,
  "vscode": {
   "interpreter": {
    "hash": "93002983ca460f516fa2d65bf0982bace8e17cdc5abc48aba510da547952d210"
   }
  }
 },
 "nbformat": 4,
 "nbformat_minor": 2
}
