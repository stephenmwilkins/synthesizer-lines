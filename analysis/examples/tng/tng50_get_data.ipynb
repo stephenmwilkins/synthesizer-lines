{
 "cells": [
  {
   "attachments": {},
   "cell_type": "markdown",
   "metadata": {},
   "source": [
    "# Download a single TNG galaxy"
   ]
  },
  {
   "cell_type": "code",
   "execution_count": 1,
   "metadata": {},
   "outputs": [],
   "source": [
    "import matplotlib.pyplot as plt\n",
    "import h5py\n",
    "import numpy as np\n",
    "import pickle"
   ]
  },
  {
   "cell_type": "code",
   "execution_count": 2,
   "metadata": {},
   "outputs": [],
   "source": [
    "import requests\n",
    "\n",
    "baseUrl = 'http://www.tng-project.org/api/'\n",
    "headers = {\"api-key\":\"c37483fea84b70f4ad9f777c38357ea0\"}\n",
    "\n",
    "def get(path, params=None):\n",
    "    # make HTTP GET request to path\n",
    "    r = requests.get(path, params=params, headers=headers)\n",
    "\n",
    "    # raise exception if response code is not HTTP SUCCESS (200)\n",
    "    r.raise_for_status()\n",
    "\n",
    "    if r.headers['content-type'] == 'application/json':\n",
    "        return r.json() # parse json responses automatically\n",
    "\n",
    "    if 'content-disposition' in r.headers:\n",
    "        filename = r.headers['content-disposition'].split(\"filename=\")[1]\n",
    "        with open(filename, 'wb') as f:\n",
    "            f.write(r.content)\n",
    "        return filename # return the filename string\n",
    "\n",
    "    return r"
   ]
  },
  {
   "cell_type": "code",
   "execution_count": 3,
   "metadata": {},
   "outputs": [
    {
     "name": "stdout",
     "output_type": "stream",
     "text": [
      "cutout_145492.hdf5\n",
      "{'snap': 33, 'id': 145492, 'bhmdot': 0.00214158, 'cm_x': 2631.63, 'cm_y': 22423.6, 'cm_z': 32813.0, 'gasmetallicity': 0.0234775, 'gasmetallicityhalfrad': 0.0332981, 'gasmetallicitymaxrad': 0.0139534, 'gasmetallicitysfr': 0.0156152, 'gasmetallicitysfrweighted': 0.0216725, 'pos_x': 2614.18, 'pos_y': 22429.6, 'pos_z': 32811.7, 'halfmassrad': 71.0307, 'halfmassrad_gas': 67.2129, 'halfmassrad_dm': 75.0715, 'halfmassrad_stars': 7.5072, 'halfmassrad_bhs': 0.0, 'len': 2303786, 'len_gas': 793943, 'len_dm': 1201183, 'len_stars': 308659, 'len_bhs': 1, 'mass': 43.4305, 'mass_gas': 5.0807, 'mass_dm': 36.9205, 'mass_stars': 1.42703, 'mass_bhs': 0.002327, 'massinhalfrad': 2.0413, 'massinhalfrad_gas': 0.196656, 'massinhalfrad_dm': 1.12881, 'massinhalfrad_stars': 0.713511, 'massinhalfrad_bhs': 0.002327, 'massinmaxrad': 12.493, 'massinmaxrad_gas': 1.64067, 'massinmaxrad_dm': 9.48976, 'massinmaxrad_stars': 1.36023, 'massinmaxrad_bhs': 0.002327, 'massinrad': 4.61426, 'massinrad_gas': 0.622574, 'massinrad_dm': 2.90797, 'massinrad_stars': 1.08139, 'massinrad_bhs': 0.002327, 'sfr': 15.455, 'sfrinhalfrad': 4.07666, 'sfrinmaxrad': 15.043, 'sfrinrad': 9.20307, 'spin_x': -578.208, 'spin_y': -426.997, 'spin_z': -670.35, 'starmetallicity': 0.0173152, 'starmetallicityhalfrad': 0.0205166, 'starmetallicitymaxrad': 0.0149549, 'stellarphotometrics_u': -22.6482, 'stellarphotometrics_b': -22.3547, 'stellarphotometrics_v': -22.56, 'stellarphotometrics_k': -24.4195, 'stellarphotometrics_g': -22.5709, 'stellarphotometrics_r': -22.6637, 'stellarphotometrics_i': -22.7412, 'stellarphotometrics_z': -22.8178, 'stellarphotometricsmassinrad': 0.353465, 'stellarphotometricsrad': 1.6798, 'vel_x': 61.3297, 'vel_y': 64.1652, 'vel_z': 19.7119, 'veldisp': 119.402, 'vmax': 204.331, 'vmaxrad': 38.643, 'windmass': 0.00155, 'prog_snap': 32, 'prog_sfid': 166280, 'desc_snap': 34, 'desc_sfid': 154916, 'parent': 0, 'grnr': 132, 'primary_flag': 1, 'subhaloflag': 1, 'mass_log_msun': 11.806949636961308, 'related': {'sublink_progenitor': 'http://www.tng-project.org/api/TNG50-1/snapshots/32/subhalos/166280/', 'sublink_descendant': 'http://www.tng-project.org/api/TNG50-1/snapshots/34/subhalos/154916/', 'parent_halo': 'http://www.tng-project.org/api/TNG50-1/snapshots/33/halos/132/'}, 'cutouts': {'subhalo': 'http://www.tng-project.org/api/TNG50-1/snapshots/33/subhalos/145492/cutout.hdf5', 'parent_halo': 'http://www.tng-project.org/api/TNG50-1/snapshots/33/halos/132/cutout.hdf5'}, 'trees': {'sublink': 'http://www.tng-project.org/api/TNG50-1/snapshots/33/subhalos/145492/sublink/full.hdf5', 'sublink_mpb': 'http://www.tng-project.org/api/TNG50-1/snapshots/33/subhalos/145492/sublink/mpb.hdf5', 'sublink_mdb': 'http://www.tng-project.org/api/TNG50-1/snapshots/33/subhalos/145492/sublink/mdb.hdf5', 'sublink_simple': 'http://www.tng-project.org/api/TNG50-1/snapshots/33/subhalos/145492/sublink/simple.json', 'sublinkgal': 'http://www.tng-project.org/api/TNG50-1/snapshots/33/subhalos/145492/sublink_gal/full.hdf5', 'sublinkgal_mpb': 'http://www.tng-project.org/api/TNG50-1/snapshots/33/subhalos/145492/sublink_gal/mpb.hdf5', 'sublinkgal_mdb': 'http://www.tng-project.org/api/TNG50-1/snapshots/33/subhalos/145492/sublink_gal/mdb.hdf5', 'sublinkgal_simple': 'http://www.tng-project.org/api/TNG50-1/snapshots/33/subhalos/145492/sublink_gal/simple.json', 'lhalotree': 'http://www.tng-project.org/api/TNG50-1/snapshots/33/subhalos/145492/lhalotree/full.hdf5', 'lhalotree_mpb': 'http://www.tng-project.org/api/TNG50-1/snapshots/33/subhalos/145492/lhalotree/mpb.hdf5'}, 'supplementary_data': {}, 'vis': {'mergertree_sublink': 'http://www.tng-project.org/api/TNG50-1/snapshots/33/subhalos/145492/sublink/tree.png', 'halo_gas_dens': 'http://www.tng-project.org/api/TNG50-1/snapshots/33/subhalos/145492/vis.png?partType=gas', 'halo_gas_temp': 'http://www.tng-project.org/api/TNG50-1/snapshots/33/subhalos/145492/vis.png?partType=gas&partField=temp', 'halo_dm_dens': 'http://www.tng-project.org/api/TNG50-1/snapshots/33/subhalos/145492/vis.png?partType=dm', 'halo_stellar_dens': 'http://www.tng-project.org/api/TNG50-1/snapshots/33/subhalos/145492/vis.png?partType=stars', 'galaxy_gas_dens': 'http://www.tng-project.org/api/TNG50-1/snapshots/33/subhalos/145492/vis.png?partType=gas&size=5.0&sizeType=rHalfMassStars', 'galaxy_gas_dens_faceon': 'http://www.tng-project.org/api/TNG50-1/snapshots/33/subhalos/145492/vis.png?partType=gas&size=5.0&sizeType=rHalfMassStars&rotation=face-on', 'galaxy_stellar_light': 'http://www.tng-project.org/api/TNG50-1/snapshots/33/subhalos/145492/vis.png?partType=stars&partField=stellarComp-jwst_f200w-jwst_f115w-jwst_f070w&size=5.0&sizeType=rHalfMassStars', 'galaxy_stellar_light_faceon': 'http://www.tng-project.org/api/TNG50-1/snapshots/33/subhalos/145492/vis.png?partType=stars&partField=stellarComp-jwst_f200w-jwst_f115w-jwst_f070w&size=5.0&sizeType=rHalfMassStars&rotation=face-on'}, 'meta': {'url': 'http://www.tng-project.org/api/TNG50-1/snapshots/33/subhalos/145492/', 'snapshot': 'http://www.tng-project.org/api/TNG50-1/snapshots/33/', 'simulation': 'http://www.tng-project.org/api/TNG50-1/', 'info': 'http://www.tng-project.org/api/TNG50-1/snapshots/33/subhalos/145492/info.json'}}\n"
     ]
    }
   ],
   "source": [
    "\n",
    "\n",
    "params = {'stars':'Coordinates,GFM_Metallicity,GFM_StellarFormationTime,GFM_InitialMass', 'gas': 'Coordinates,GFM_Metallicity,SubfindHsml,Masses'}\n",
    "\n",
    "id = '145492'\n",
    "redshift = 2.0\n",
    "\n",
    "url = \"http://www.tng-project.org/api/TNG50-1/snapshots/z=\" + str(redshift) + \"/subhalos/\" + str(id)\n",
    "sub = get(url) # get json response of subhalo properties\n",
    "saved_filename = get(url + \"/cutout.hdf5\",params) # get and save HDF5 cutout file\n",
    "print(saved_filename)\n",
    "print(sub)\n",
    "\n",
    "import pickle\n",
    "pickle.dump(sub, open('sub.pck','wb'))"
   ]
  },
  {
   "cell_type": "code",
   "execution_count": 4,
   "metadata": {},
   "outputs": [
    {
     "name": "stdout",
     "output_type": "stream",
     "text": [
      "snap 33\n",
      "id 145492\n",
      "bhmdot 0.00214158\n",
      "cm_x 2631.63\n",
      "cm_y 22423.6\n",
      "cm_z 32813.0\n",
      "gasmetallicity 0.0234775\n",
      "gasmetallicityhalfrad 0.0332981\n",
      "gasmetallicitymaxrad 0.0139534\n",
      "gasmetallicitysfr 0.0156152\n",
      "gasmetallicitysfrweighted 0.0216725\n",
      "pos_x 2614.18\n",
      "pos_y 22429.6\n",
      "pos_z 32811.7\n",
      "halfmassrad 71.0307\n",
      "halfmassrad_gas 67.2129\n",
      "halfmassrad_dm 75.0715\n",
      "halfmassrad_stars 7.5072\n",
      "halfmassrad_bhs 0.0\n",
      "len 2303786\n",
      "len_gas 793943\n",
      "len_dm 1201183\n",
      "len_stars 308659\n",
      "len_bhs 1\n",
      "mass 43.4305\n",
      "mass_gas 5.0807\n",
      "mass_dm 36.9205\n",
      "mass_stars 1.42703\n",
      "mass_bhs 0.002327\n",
      "massinhalfrad 2.0413\n",
      "massinhalfrad_gas 0.196656\n",
      "massinhalfrad_dm 1.12881\n",
      "massinhalfrad_stars 0.713511\n",
      "massinhalfrad_bhs 0.002327\n",
      "massinmaxrad 12.493\n",
      "massinmaxrad_gas 1.64067\n",
      "massinmaxrad_dm 9.48976\n",
      "massinmaxrad_stars 1.36023\n",
      "massinmaxrad_bhs 0.002327\n",
      "massinrad 4.61426\n",
      "massinrad_gas 0.622574\n",
      "massinrad_dm 2.90797\n",
      "massinrad_stars 1.08139\n",
      "massinrad_bhs 0.002327\n",
      "sfr 15.455\n",
      "sfrinhalfrad 4.07666\n",
      "sfrinmaxrad 15.043\n",
      "sfrinrad 9.20307\n",
      "spin_x -578.208\n",
      "spin_y -426.997\n",
      "spin_z -670.35\n",
      "starmetallicity 0.0173152\n",
      "starmetallicityhalfrad 0.0205166\n",
      "starmetallicitymaxrad 0.0149549\n",
      "stellarphotometrics_u -22.6482\n",
      "stellarphotometrics_b -22.3547\n",
      "stellarphotometrics_v -22.56\n",
      "stellarphotometrics_k -24.4195\n",
      "stellarphotometrics_g -22.5709\n",
      "stellarphotometrics_r -22.6637\n",
      "stellarphotometrics_i -22.7412\n",
      "stellarphotometrics_z -22.8178\n",
      "stellarphotometricsmassinrad 0.353465\n",
      "stellarphotometricsrad 1.6798\n",
      "vel_x 61.3297\n",
      "vel_y 64.1652\n",
      "vel_z 19.7119\n",
      "veldisp 119.402\n",
      "vmax 204.331\n",
      "vmaxrad 38.643\n",
      "windmass 0.00155\n",
      "prog_snap 32\n",
      "prog_sfid 166280\n",
      "desc_snap 34\n",
      "desc_sfid 154916\n",
      "parent 0\n",
      "grnr 132\n",
      "primary_flag 1\n",
      "subhaloflag 1\n",
      "mass_log_msun 11.806949636961308\n",
      "related {'sublink_progenitor': 'http://www.tng-project.org/api/TNG50-1/snapshots/32/subhalos/166280/', 'sublink_descendant': 'http://www.tng-project.org/api/TNG50-1/snapshots/34/subhalos/154916/', 'parent_halo': 'http://www.tng-project.org/api/TNG50-1/snapshots/33/halos/132/'}\n",
      "cutouts {'subhalo': 'http://www.tng-project.org/api/TNG50-1/snapshots/33/subhalos/145492/cutout.hdf5', 'parent_halo': 'http://www.tng-project.org/api/TNG50-1/snapshots/33/halos/132/cutout.hdf5'}\n",
      "trees {'sublink': 'http://www.tng-project.org/api/TNG50-1/snapshots/33/subhalos/145492/sublink/full.hdf5', 'sublink_mpb': 'http://www.tng-project.org/api/TNG50-1/snapshots/33/subhalos/145492/sublink/mpb.hdf5', 'sublink_mdb': 'http://www.tng-project.org/api/TNG50-1/snapshots/33/subhalos/145492/sublink/mdb.hdf5', 'sublink_simple': 'http://www.tng-project.org/api/TNG50-1/snapshots/33/subhalos/145492/sublink/simple.json', 'sublinkgal': 'http://www.tng-project.org/api/TNG50-1/snapshots/33/subhalos/145492/sublink_gal/full.hdf5', 'sublinkgal_mpb': 'http://www.tng-project.org/api/TNG50-1/snapshots/33/subhalos/145492/sublink_gal/mpb.hdf5', 'sublinkgal_mdb': 'http://www.tng-project.org/api/TNG50-1/snapshots/33/subhalos/145492/sublink_gal/mdb.hdf5', 'sublinkgal_simple': 'http://www.tng-project.org/api/TNG50-1/snapshots/33/subhalos/145492/sublink_gal/simple.json', 'lhalotree': 'http://www.tng-project.org/api/TNG50-1/snapshots/33/subhalos/145492/lhalotree/full.hdf5', 'lhalotree_mpb': 'http://www.tng-project.org/api/TNG50-1/snapshots/33/subhalos/145492/lhalotree/mpb.hdf5'}\n",
      "supplementary_data {}\n",
      "vis {'mergertree_sublink': 'http://www.tng-project.org/api/TNG50-1/snapshots/33/subhalos/145492/sublink/tree.png', 'halo_gas_dens': 'http://www.tng-project.org/api/TNG50-1/snapshots/33/subhalos/145492/vis.png?partType=gas', 'halo_gas_temp': 'http://www.tng-project.org/api/TNG50-1/snapshots/33/subhalos/145492/vis.png?partType=gas&partField=temp', 'halo_dm_dens': 'http://www.tng-project.org/api/TNG50-1/snapshots/33/subhalos/145492/vis.png?partType=dm', 'halo_stellar_dens': 'http://www.tng-project.org/api/TNG50-1/snapshots/33/subhalos/145492/vis.png?partType=stars', 'galaxy_gas_dens': 'http://www.tng-project.org/api/TNG50-1/snapshots/33/subhalos/145492/vis.png?partType=gas&size=5.0&sizeType=rHalfMassStars', 'galaxy_gas_dens_faceon': 'http://www.tng-project.org/api/TNG50-1/snapshots/33/subhalos/145492/vis.png?partType=gas&size=5.0&sizeType=rHalfMassStars&rotation=face-on', 'galaxy_stellar_light': 'http://www.tng-project.org/api/TNG50-1/snapshots/33/subhalos/145492/vis.png?partType=stars&partField=stellarComp-jwst_f200w-jwst_f115w-jwst_f070w&size=5.0&sizeType=rHalfMassStars', 'galaxy_stellar_light_faceon': 'http://www.tng-project.org/api/TNG50-1/snapshots/33/subhalos/145492/vis.png?partType=stars&partField=stellarComp-jwst_f200w-jwst_f115w-jwst_f070w&size=5.0&sizeType=rHalfMassStars&rotation=face-on'}\n",
      "meta {'url': 'http://www.tng-project.org/api/TNG50-1/snapshots/33/subhalos/145492/', 'snapshot': 'http://www.tng-project.org/api/TNG50-1/snapshots/33/', 'simulation': 'http://www.tng-project.org/api/TNG50-1/', 'info': 'http://www.tng-project.org/api/TNG50-1/snapshots/33/subhalos/145492/info.json'}\n"
     ]
    }
   ],
   "source": [
    "sub = pickle.load(open('sub.pck','rb'))\n",
    "for k,v in sub.items():\n",
    "    print(k,v)"
   ]
  },
  {
   "cell_type": "code",
   "execution_count": 5,
   "metadata": {},
   "outputs": [
    {
     "name": "stdout",
     "output_type": "stream",
     "text": [
      "Header\n",
      "PartType0\n",
      "PartType0/Coordinates\n",
      "PartType0/GFM_Metallicity\n",
      "PartType0/Masses\n",
      "PartType0/SubfindHsml\n",
      "PartType4\n",
      "PartType4/Coordinates\n",
      "PartType4/GFM_InitialMass\n",
      "PartType4/GFM_Metallicity\n",
      "PartType4/GFM_StellarFormationTime\n"
     ]
    }
   ],
   "source": [
    "with h5py.File(saved_filename) as f:\n",
    "    f.visit(print)"
   ]
  }
 ],
 "metadata": {
  "kernelspec": {
   "display_name": "venv",
   "language": "python",
   "name": "python3"
  },
  "language_info": {
   "codemirror_mode": {
    "name": "ipython",
    "version": 3
   },
   "file_extension": ".py",
   "mimetype": "text/x-python",
   "name": "python",
   "nbconvert_exporter": "python",
   "pygments_lexer": "ipython3",
   "version": "3.10.11"
  },
  "orig_nbformat": 4,
  "vscode": {
   "interpreter": {
    "hash": "93002983ca460f516fa2d65bf0982bace8e17cdc5abc48aba510da547952d210"
   }
  }
 },
 "nbformat": 4,
 "nbformat_minor": 2
}
