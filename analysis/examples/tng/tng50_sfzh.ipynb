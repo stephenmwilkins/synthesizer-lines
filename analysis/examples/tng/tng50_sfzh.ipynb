{
 "cells": [
  {
   "cell_type": "code",
   "execution_count": 1,
   "metadata": {},
   "outputs": [],
   "source": [
    "import matplotlib.pyplot as plt\n",
    "import cmasher as cmr\n",
    "import numpy as np\n",
    "import h5py\n",
    "import pickle\n",
    "from synthesizer.particle import Stars, Gas, Galaxy\n"
   ]
  },
  {
   "cell_type": "code",
   "execution_count": 2,
   "metadata": {},
   "outputs": [],
   "source": [
    "# set style\n",
    "plt.style.use('../../matplotlibrc.txt')"
   ]
  },
  {
   "attachments": {},
   "cell_type": "markdown",
   "metadata": {},
   "source": [
    "Initialise stars object"
   ]
  },
  {
   "cell_type": "code",
   "execution_count": 3,
   "metadata": {},
   "outputs": [],
   "source": [
    "import pickle\n",
    "\n",
    "snap_z = 2.00202813925285\n",
    "id = '145492'\n",
    "\n",
    "galaxy = pickle.load(open(f'data/galaxy_{id}.pck','rb'))"
   ]
  },
  {
   "cell_type": "code",
   "execution_count": 4,
   "metadata": {},
   "outputs": [
    {
     "name": "stderr",
     "output_type": "stream",
     "text": [
      "/var/folders/1r/dyc06cz53k1g87b17q09by98000ft2/T/ipykernel_60434/314651429.py:51: UserWarning: FigureCanvasAgg is non-interactive, and thus cannot be shown\n",
      "  fig.show()\n"
     ]
    },
    {
     "data": {
      "image/png": "[encoded data removed]",
      "text/plain": [
       "<Figure size 350x350 with 3 Axes>"
      ]
     },
     "metadata": {},
     "output_type": "display_data"
    }
   ],
   "source": [
    "metallicities = galaxy.stars.metallicities\n",
    "ages = galaxy.stars.ages\n",
    "initial_masses = galaxy.stars._initial_masses\n",
    "\n",
    "cmap = cmr.sapphire\n",
    "age_range = [0., 3000.]\n",
    "log10metallicity_range = [-3.5, -1.]\n",
    "nbins = 40\n",
    "\n",
    "fig = plt.figure(figsize=(3.5, 3.5))\n",
    "\n",
    "bottom = 0.15\n",
    "height = 0.6\n",
    "hsize = 0.15\n",
    "left = 0.15\n",
    "width = 0.6\n",
    "\n",
    "ax = fig.add_axes((left, bottom, width, height))\n",
    "axx = fig.add_axes((left, bottom+height, width, hsize))\n",
    "axy = fig.add_axes((left+width, bottom, hsize, height))\n",
    "\n",
    "hist, xedges, yedges = np.histogram2d(ages.to('Myr').value, \n",
    "                                      np.log10(metallicities), \n",
    "                                      bins=[nbins,nbins], \n",
    "                                      range=[age_range, log10metallicity_range],\n",
    "                                      weights=initial_masses)\n",
    "\n",
    "axx.hist(ages.to('Myr').value, bins=nbins, range=age_range, weights=initial_masses,color='0.5')\n",
    "axy.hist(np.log10(metallicities), bins=nbins, range=log10metallicity_range, weights=initial_masses, orientation='horizontal',color='0.5')\n",
    "\n",
    "ax.imshow(hist.T, \n",
    "           origin='lower', \n",
    "           interpolation='nearest', \n",
    "           extent=[*age_range, *log10metallicity_range],\n",
    "           aspect='auto',\n",
    "           cmap=cmap)\n",
    "\n",
    "\n",
    "axx.set_xlim(age_range)\n",
    "axx.set_yticklabels([])\n",
    "axx.xaxis.set_ticks_position('top')\n",
    "\n",
    "axy.set_ylim(log10metallicity_range)\n",
    "axy.set_xticklabels([])\n",
    "axy.yaxis.set_ticks_position('right')\n",
    "\n",
    "ax.set_xlabel(r'$\\rm age/Myr$')\n",
    "ax.set_ylabel(r'$\\rm log_{10}(metallicity)$')\n",
    "\n",
    "fig.savefig('figs/tng-age_metallicity.pdf')\n",
    "fig.show()"
   ]
  }
 ],
 "metadata": {
  "kernelspec": {
   "display_name": "venv",
   "language": "python",
   "name": "python3"
  },
  "language_info": {
   "codemirror_mode": {
    "name": "ipython",
    "version": 3
   },
   "file_extension": ".py",
   "mimetype": "text/x-python",
   "name": "python",
   "nbconvert_exporter": "python",
   "pygments_lexer": "ipython3",
   "version": "3.10.11"
  },
  "orig_nbformat": 4,
  "vscode": {
   "interpreter": {
    "hash": "93002983ca460f516fa2d65bf0982bace8e17cdc5abc48aba510da547952d210"
   }
  }
 },
 "nbformat": 4,
 "nbformat_minor": 2
}
