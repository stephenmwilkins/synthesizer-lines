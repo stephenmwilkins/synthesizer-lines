{
 "cells": [
  {
   "cell_type": "code",
   "execution_count": 76,
   "metadata": {},
   "outputs": [],
   "source": [
    "import numpy as np\n",
    "from synthesizer.photoionisation import cloudy23\n"
   ]
  },
  {
   "cell_type": "code",
   "execution_count": 77,
   "metadata": {},
   "outputs": [],
   "source": [
    "\n",
    "model1 = 'constant_density'\n",
    "model2 = 'constant_density_no_grains'\n",
    "\n",
    "model1 = 'constant_pressure'\n",
    "model2 = 'constant_pressure_no_grains'\n",
    "\n",
    "variant = '1'"
   ]
  },
  {
   "cell_type": "code",
   "execution_count": 78,
   "metadata": {},
   "outputs": [],
   "source": [
    "linelist1 = cloudy23.read_linelist(f'{model1}/{variant}')\n",
    "linelist2 = cloudy23.read_linelist(f'{model2}/{variant}')"
   ]
  },
  {
   "cell_type": "code",
   "execution_count": 79,
   "metadata": {},
   "outputs": [
    {
     "name": "stdout",
     "output_type": "stream",
     "text": [
      "--------------------\n",
      "H 1 6562.80A\n",
      "constant_pressure 30.02\n",
      "constant_pressure_no_grains 30.35\n"
     ]
    }
   ],
   "source": [
    "\n",
    "for line in ['H 1 6562.80A']:\n",
    "\n",
    "    print('-'*20)\n",
    "    print(line)\n",
    "\n",
    "    for linelist, model in zip([linelist1, linelist2],[model1, model2]):\n",
    "        s = linelist[0] == line\n",
    "        print(f'{model} {np.log10(linelist[2][s][0]):.2f}')\n",
    "\n"
   ]
  }
 ],
 "metadata": {
  "kernelspec": {
   "display_name": "venv",
   "language": "python",
   "name": "python3"
  },
  "language_info": {
   "codemirror_mode": {
    "name": "ipython",
    "version": 3
   },
   "file_extension": ".py",
   "mimetype": "text/x-python",
   "name": "python",
   "nbconvert_exporter": "python",
   "pygments_lexer": "ipython3",
   "version": "3.10.11"
  },
  "orig_nbformat": 4,
  "vscode": {
   "interpreter": {
    "hash": "93002983ca460f516fa2d65bf0982bace8e17cdc5abc48aba510da547952d210"
   }
  }
 },
 "nbformat": 4,
 "nbformat_minor": 2
}
