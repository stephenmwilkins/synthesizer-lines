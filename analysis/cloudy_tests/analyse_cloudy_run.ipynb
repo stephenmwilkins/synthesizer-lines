{
 "cells": [
  {
   "cell_type": "code",
   "execution_count": null,
   "metadata": {},
   "outputs": [],
   "source": [
    "import numpy as np\n",
    "from synthesizer.photoionisation import cloudy23\n"
   ]
  },
  {
   "cell_type": "code",
   "execution_count": 9,
   "metadata": {},
   "outputs": [],
   "source": [
    "test = 'default'"
   ]
  },
  {
   "cell_type": "code",
   "execution_count": 10,
   "metadata": {},
   "outputs": [],
   "source": [
    "line_ids, blends, wavelengths, intrinsic, emergent = cloudy23.read_lines(f'{test}/1')\n",
    "linelist = cloudy23.read_linelist(f'{test}/1')\n",
    "elinelist = cloudy23.read_linelist(f'{test}/1', extension='eelin')"
   ]
  },
  {
   "cell_type": "code",
   "execution_count": 11,
   "metadata": {},
   "outputs": [
    {
     "name": "stdout",
     "output_type": "stream",
     "text": [
      "intrinsic 30.052999999999997\n",
      "emergent 29.843000000000004\n",
      "intrinsic 30.05319372760087\n",
      "emergent 29.843058277543278\n"
     ]
    }
   ],
   "source": [
    "\n",
    "\n",
    "line_id = 'H 1 6562.80A'\n",
    "\n",
    "# select line\n",
    "s = line_ids == line_id\n",
    "\n",
    "# for line in line_ids:\n",
    "#     if line[:5] == 'H 1 6':\n",
    "#         print(line)\n",
    "\n",
    "print('intrinsic', intrinsic[s][0])\n",
    "print('emergent', emergent[s][0])\n",
    "\n",
    "s = linelist[0] == line_id\n",
    "print('intrinsic', np.log10(linelist[2][s][0]))\n",
    "\n",
    "s = elinelist[0] == line_id\n",
    "print('emergent', np.log10(elinelist[2][s][0]))\n",
    "\n"
   ]
  }
 ],
 "metadata": {
  "kernelspec": {
   "display_name": "venv",
   "language": "python",
   "name": "python3"
  },
  "language_info": {
   "codemirror_mode": {
    "name": "ipython",
    "version": 3
   },
   "file_extension": ".py",
   "mimetype": "text/x-python",
   "name": "python",
   "nbconvert_exporter": "python",
   "pygments_lexer": "ipython3",
   "version": "3.10.11"
  },
  "orig_nbformat": 4,
  "vscode": {
   "interpreter": {
    "hash": "93002983ca460f516fa2d65bf0982bace8e17cdc5abc48aba510da547952d210"
   }
  }
 },
 "nbformat": 4,
 "nbformat_minor": 2
}
