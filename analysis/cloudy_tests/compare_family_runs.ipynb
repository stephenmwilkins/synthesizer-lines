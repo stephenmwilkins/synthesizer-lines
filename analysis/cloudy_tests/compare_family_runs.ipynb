{
 "cells": [
  {
   "cell_type": "code",
   "execution_count": 9,
   "metadata": {},
   "outputs": [],
   "source": [
    "import numpy as np\n",
    "from synthesizer.photoionisation import cloudy23\n"
   ]
  },
  {
   "cell_type": "code",
   "execution_count": 10,
   "metadata": {},
   "outputs": [],
   "source": [
    "model = 'stopping_test'"
   ]
  },
  {
   "cell_type": "code",
   "execution_count": 11,
   "metadata": {},
   "outputs": [],
   "source": [
    "\n",
    "extension = 'elin'\n",
    "linelist1 = cloudy23.read_linelist(f'{model}/1', extension=extension)\n",
    "linelist2 = cloudy23.read_linelist(f'{model}/2', extension=extension)"
   ]
  },
  {
   "cell_type": "code",
   "execution_count": 12,
   "metadata": {},
   "outputs": [
    {
     "name": "stdout",
     "output_type": "stream",
     "text": [
      "--------------------\n",
      "H 1 6564.62A\n",
      "37.05\n",
      "37.05\n"
     ]
    }
   ],
   "source": [
    "\n",
    "for line in ['H 1 6564.62A']:\n",
    "\n",
    "    print('-'*20)\n",
    "    print(line)\n",
    "\n",
    "    for linelist in [linelist1, linelist2]:\n",
    "        s = linelist[0] == line\n",
    "        print(f'{np.log10(linelist[2][s][0]):.2f}')\n",
    "\n"
   ]
  }
 ],
 "metadata": {
  "kernelspec": {
   "display_name": "venv",
   "language": "python",
   "name": "python3"
  },
  "language_info": {
   "codemirror_mode": {
    "name": "ipython",
    "version": 3
   },
   "file_extension": ".py",
   "mimetype": "text/x-python",
   "name": "python",
   "nbconvert_exporter": "python",
   "pygments_lexer": "ipython3",
   "version": "3.10.11"
  },
  "orig_nbformat": 4,
  "vscode": {
   "interpreter": {
    "hash": "93002983ca460f516fa2d65bf0982bace8e17cdc5abc48aba510da547952d210"
   }
  }
 },
 "nbformat": 4,
 "nbformat_minor": 2
}
